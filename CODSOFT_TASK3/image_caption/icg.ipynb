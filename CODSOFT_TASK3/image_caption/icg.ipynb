{
 "cells": [
  {
   "cell_type": "code",
   "execution_count": 1,
   "metadata": {
    "colab": {
     "base_uri": "https://localhost:8080/"
    },
    "executionInfo": {
     "elapsed": 26902,
     "status": "ok",
     "timestamp": 1715870943824,
     "user": {
      "displayName": "Kunal Mehra",
      "userId": "01298929674880346817"
     },
     "user_tz": -330
    },
    "id": "1zAVe1omR26r",
    "outputId": "ae37eeb3-318e-4f84-a11a-e9e51ffc7011"
   },
   "outputs": [
    {
     "ename": "ModuleNotFoundError",
     "evalue": "No module named 'google.colab'",
     "output_type": "error",
     "traceback": [
      "\u001b[1;31m---------------------------------------------------------------------------\u001b[0m",
      "\u001b[1;31mModuleNotFoundError\u001b[0m                       Traceback (most recent call last)",
      "Cell \u001b[1;32mIn[1], line 1\u001b[0m\n\u001b[1;32m----> 1\u001b[0m \u001b[38;5;28;01mfrom\u001b[39;00m \u001b[38;5;21;01mgoogle\u001b[39;00m\u001b[38;5;21;01m.\u001b[39;00m\u001b[38;5;21;01mcolab\u001b[39;00m \u001b[38;5;28;01mimport\u001b[39;00m drive\n\u001b[0;32m      2\u001b[0m drive\u001b[38;5;241m.\u001b[39mmount(\u001b[38;5;124m'\u001b[39m\u001b[38;5;124m/content/drive\u001b[39m\u001b[38;5;124m'\u001b[39m)\n",
      "\u001b[1;31mModuleNotFoundError\u001b[0m: No module named 'google.colab'"
     ]
    }
   ],
   "source": [
    "from google.colab import drive\n",
    "drive.mount('/content/drive')"
   ]
  },
  {
   "cell_type": "code",
   "execution_count": 2,
   "metadata": {
    "executionInfo": {
     "elapsed": 5008,
     "status": "ok",
     "timestamp": 1715870991005,
     "user": {
      "displayName": "Kunal Mehra",
      "userId": "01298929674880346817"
     },
     "user_tz": -330
    },
    "id": "RuKKP_AyutwD"
   },
   "outputs": [],
   "source": [
    "import os\n",
    "import pickle\n",
    "import numpy as np\n",
    "from tqdm.notebook import tqdm\n",
    "\n",
    "from tensorflow.keras.applications.vgg16 import VGG16, preprocess_input\n",
    "from tensorflow.keras.preprocessing.image import load_img, img_to_array\n",
    "from tensorflow.keras.preprocessing.text import Tokenizer\n",
    "from tensorflow.keras.preprocessing.sequence import pad_sequences\n",
    "from tensorflow.keras.models import Model\n",
    "from tensorflow.keras.utils import to_categorical, plot_model\n",
    "from tensorflow.keras.layers import Input, Dense, LSTM, Embedding, Dropout, add"
   ]
  },
  {
   "cell_type": "code",
   "execution_count": null,
   "metadata": {
    "executionInfo": {
     "elapsed": 400,
     "status": "ok",
     "timestamp": 1715870994955,
     "user": {
      "displayName": "Kunal Mehra",
      "userId": "01298929674880346817"
     },
     "user_tz": -330
    },
    "id": "WAdnZZN8utwG"
   },
   "outputs": [],
   "source": [
    "# BASE_DIR = '/content/drive/MyDrive/Colab Notebooks'\n",
    "# WORKING_DIR = '/content/drive/MyDrive/Colab Notebooks'\n",
    "BASE_DIR = '/Desktop/image_caption'\n",
    "WORKING_DIR = ''"
   ]
  },
  {
   "cell_type": "code",
   "execution_count": null,
   "metadata": {
    "id": "WgXIJUEWutwH"
   },
   "outputs": [],
   "source": [
    "# load vgg16 model\n",
    "# model = VGG16()\n",
    "# # restructure the model\n",
    "# model = Model(inputs=model.inputs, outputs=model.layers[-2].output)"
   ]
  },
  {
   "cell_type": "code",
   "execution_count": null,
   "metadata": {
    "id": "LNbxJ3FgutwI"
   },
   "outputs": [],
   "source": [
    "# # extract features from image\n",
    "# features = {}\n",
    "# directory = os.path.join(BASE_DIR, 'Images')\n",
    "\n",
    "# for img_name in tqdm(os.listdir(directory),desc='feature are extracting'):\n",
    "#     # load the image from file\n",
    "#     img_path = directory + '/' + img_name\n",
    "#     try:\n",
    "#       image = load_img(img_path, target_size=(224, 224))\n",
    "#     except UnidentifiedImageError as e:\n",
    "#       continue\n",
    "#     # convert image pixels to numpy array\n",
    "#     image = img_to_array(image)\n",
    "#     # reshape data for model\n",
    "#     image = image.reshape((1, image.shape[0], image.shape[1], image.shape[2]))\n",
    "#     # preprocess image for vgg\n",
    "#     image = preprocess_input(image)\n",
    "#     # extract features\n",
    "#     feature = model.predict(image, verbose=0)\n",
    "#     # get image ID\n",
    "#     image_id = img_name.split('.')[0]\n",
    "#     # store feature\n",
    "#     features[image_id] = feature\n"
   ]
  },
  {
   "cell_type": "code",
   "execution_count": null,
   "metadata": {
    "id": "RXqKMcgPutwI"
   },
   "outputs": [],
   "source": [
    "# pickle.dump(features, open(os.path.join(WORKING_DIR, 'features.pkl'), 'wb'))"
   ]
  },
  {
   "cell_type": "code",
   "execution_count": 13,
   "metadata": {
    "executionInfo": {
     "elapsed": 5367,
     "status": "ok",
     "timestamp": 1715871008732,
     "user": {
      "displayName": "Kunal Mehra",
      "userId": "01298929674880346817"
     },
     "user_tz": -330
    },
    "id": "YKhacCWButwI"
   },
   "outputs": [
    {
     "ename": "FileNotFoundError",
     "evalue": "[Errno 2] No such file or directory: '\\\\Desktop\\\\image_caption\\\\features.pkl'",
     "output_type": "error",
     "traceback": [
      "\u001b[1;31m---------------------------------------------------------------------------\u001b[0m",
      "\u001b[1;31mFileNotFoundError\u001b[0m                         Traceback (most recent call last)",
      "Cell \u001b[1;32mIn[13], line 2\u001b[0m\n\u001b[0;32m      1\u001b[0m \u001b[38;5;66;03m# load features from pickle\u001b[39;00m\n\u001b[1;32m----> 2\u001b[0m \u001b[38;5;28;01mwith\u001b[39;00m \u001b[38;5;28;43mopen\u001b[39;49m\u001b[43m(\u001b[49m\u001b[43mos\u001b[49m\u001b[38;5;241;43m.\u001b[39;49m\u001b[43mpath\u001b[49m\u001b[38;5;241;43m.\u001b[39;49m\u001b[43mjoin\u001b[49m\u001b[43m(\u001b[49m\u001b[43mWORKING_DIR\u001b[49m\u001b[43m,\u001b[49m\u001b[43m \u001b[49m\u001b[38;5;124;43m'\u001b[39;49m\u001b[38;5;124;43mfeatures.pkl\u001b[39;49m\u001b[38;5;124;43m'\u001b[39;49m\u001b[43m)\u001b[49m\u001b[43m,\u001b[49m\u001b[43m \u001b[49m\u001b[38;5;124;43m'\u001b[39;49m\u001b[38;5;124;43mrb\u001b[39;49m\u001b[38;5;124;43m'\u001b[39;49m\u001b[43m)\u001b[49m \u001b[38;5;28;01mas\u001b[39;00m f:\n\u001b[0;32m      3\u001b[0m     features \u001b[38;5;241m=\u001b[39m pickle\u001b[38;5;241m.\u001b[39mload(f)\n",
      "File \u001b[1;32mc:\\Users\\himan\\AppData\\Local\\Programs\\Python\\Python311\\Lib\\site-packages\\IPython\\core\\interactiveshell.py:308\u001b[0m, in \u001b[0;36m_modified_open\u001b[1;34m(file, *args, **kwargs)\u001b[0m\n\u001b[0;32m    301\u001b[0m \u001b[38;5;28;01mif\u001b[39;00m file \u001b[38;5;129;01min\u001b[39;00m {\u001b[38;5;241m0\u001b[39m, \u001b[38;5;241m1\u001b[39m, \u001b[38;5;241m2\u001b[39m}:\n\u001b[0;32m    302\u001b[0m     \u001b[38;5;28;01mraise\u001b[39;00m \u001b[38;5;167;01mValueError\u001b[39;00m(\n\u001b[0;32m    303\u001b[0m         \u001b[38;5;124mf\u001b[39m\u001b[38;5;124m\"\u001b[39m\u001b[38;5;124mIPython won\u001b[39m\u001b[38;5;124m'\u001b[39m\u001b[38;5;124mt let you open fd=\u001b[39m\u001b[38;5;132;01m{\u001b[39;00mfile\u001b[38;5;132;01m}\u001b[39;00m\u001b[38;5;124m by default \u001b[39m\u001b[38;5;124m\"\u001b[39m\n\u001b[0;32m    304\u001b[0m         \u001b[38;5;124m\"\u001b[39m\u001b[38;5;124mas it is likely to crash IPython. If you know what you are doing, \u001b[39m\u001b[38;5;124m\"\u001b[39m\n\u001b[0;32m    305\u001b[0m         \u001b[38;5;124m\"\u001b[39m\u001b[38;5;124myou can use builtins\u001b[39m\u001b[38;5;124m'\u001b[39m\u001b[38;5;124m open.\u001b[39m\u001b[38;5;124m\"\u001b[39m\n\u001b[0;32m    306\u001b[0m     )\n\u001b[1;32m--> 308\u001b[0m \u001b[38;5;28;01mreturn\u001b[39;00m \u001b[43mio_open\u001b[49m\u001b[43m(\u001b[49m\u001b[43mfile\u001b[49m\u001b[43m,\u001b[49m\u001b[43m \u001b[49m\u001b[38;5;241;43m*\u001b[39;49m\u001b[43margs\u001b[49m\u001b[43m,\u001b[49m\u001b[43m \u001b[49m\u001b[38;5;241;43m*\u001b[39;49m\u001b[38;5;241;43m*\u001b[39;49m\u001b[43mkwargs\u001b[49m\u001b[43m)\u001b[49m\n",
      "\u001b[1;31mFileNotFoundError\u001b[0m: [Errno 2] No such file or directory: '\\\\Desktop\\\\image_caption\\\\features.pkl'"
     ]
    }
   ],
   "source": [
    "# load features from pickle\n",
    "with open(os.path.join(WORKING_DIR, 'features.pkl'), 'rb') as f:\n",
    "    features = pickle.load(f)"
   ]
  },
  {
   "cell_type": "code",
   "execution_count": 5,
   "metadata": {
    "executionInfo": {
     "elapsed": 767,
     "status": "ok",
     "timestamp": 1715871012100,
     "user": {
      "displayName": "Kunal Mehra",
      "userId": "01298929674880346817"
     },
     "user_tz": -330
    },
    "id": "5x0GHN25utwJ"
   },
   "outputs": [],
   "source": [
    "with open(os.path.join(BASE_DIR, 'captions.txt'), 'r') as f:\n",
    "    next(f)\n",
    "    captions_doc = f.read()"
   ]
  },
  {
   "cell_type": "code",
   "execution_count": 6,
   "metadata": {
    "colab": {
     "base_uri": "https://localhost:8080/",
     "height": 49,
     "referenced_widgets": [
      "619a922430004aa5bd6f42b445e0b147",
      "81978cac1c234a578785bf0390076c16",
      "22a17607162f4362b9bb2531b144613d",
      "d6cbfd00fb2a45608486efda3e738320",
      "abe022605f16460e97058d5b90070a17",
      "edafa52843c4423f8081a8d16c4c5aec",
      "fd6936a1620141b1b6654159978b784d",
      "5b9817811890479e83f6cd04e858a578",
      "2b0f160dcd974cc680ffbab9353c1a50",
      "24d2cbeeecba439aa9dc7025aff79517",
      "8f01b79b1de5428fa6919c8c0494fb58"
     ]
    },
    "executionInfo": {
     "elapsed": 442,
     "status": "ok",
     "timestamp": 1715871021301,
     "user": {
      "displayName": "Kunal Mehra",
      "userId": "01298929674880346817"
     },
     "user_tz": -330
    },
    "id": "qb8t81F_utwJ",
    "outputId": "3b62a6c5-8ae9-4cde-c978-c3484aec4af7"
   },
   "outputs": [
    {
     "data": {
      "application/vnd.jupyter.widget-view+json": {
       "model_id": "619a922430004aa5bd6f42b445e0b147",
       "version_major": 2,
       "version_minor": 0
      },
      "text/plain": [
       "  0%|          | 0/40456 [00:00<?, ?it/s]"
      ]
     },
     "metadata": {},
     "output_type": "display_data"
    }
   ],
   "source": [
    "# create mapping of image to captions\n",
    "mapping = {}\n",
    "# process lines\n",
    "for line in tqdm(captions_doc.split('\\n')):\n",
    "    # split the line by comma(,)\n",
    "    tokens = line.split(',')\n",
    "    if len(line) < 2:\n",
    "        continue\n",
    "    image_id, caption = tokens[0], tokens[1:]\n",
    "    # remove extension from image ID\n",
    "    image_id = image_id.split('.')[0]\n",
    "    # convert caption list to string\n",
    "    caption = \" \".join(caption)\n",
    "    # create list if needed\n",
    "    if image_id not in mapping:\n",
    "        mapping[image_id] = []\n",
    "    # store the caption\n",
    "    mapping[image_id].append(caption)"
   ]
  },
  {
   "cell_type": "code",
   "execution_count": null,
   "metadata": {
    "id": "Q2q-jEVcutwJ"
   },
   "outputs": [],
   "source": [
    "# len(mapping)"
   ]
  },
  {
   "cell_type": "code",
   "execution_count": 7,
   "metadata": {
    "executionInfo": {
     "elapsed": 577,
     "status": "ok",
     "timestamp": 1715871027288,
     "user": {
      "displayName": "Kunal Mehra",
      "userId": "01298929674880346817"
     },
     "user_tz": -330
    },
    "id": "dju9CNmmutwJ"
   },
   "outputs": [],
   "source": [
    "def clean(mapping):\n",
    "    for key, captions in mapping.items():\n",
    "        for i in range(len(captions)):\n",
    "            # take one caption at a time\n",
    "            caption = captions[i]\n",
    "            # preprocessing steps\n",
    "            # convert to lowercase\n",
    "            caption = caption.lower()\n",
    "            # delete digits, special chars, etc.,\n",
    "            caption = caption.replace('[^A-Za-z]', '')\n",
    "            # delete additional spaces\n",
    "            caption = caption.replace('\\s+', ' ')\n",
    "            # add start and end tags to the caption\n",
    "            caption = 'startseq ' + \" \".join([word for word in caption.split() if len(word)>1]) + ' endseq'\n",
    "            captions[i] = caption"
   ]
  },
  {
   "cell_type": "code",
   "execution_count": 8,
   "metadata": {
    "colab": {
     "base_uri": "https://localhost:8080/"
    },
    "executionInfo": {
     "elapsed": 8,
     "status": "ok",
     "timestamp": 1715871030549,
     "user": {
      "displayName": "Kunal Mehra",
      "userId": "01298929674880346817"
     },
     "user_tz": -330
    },
    "id": "yOCSlN4nutwK",
    "outputId": "9cc2f903-134b-42e8-8c12-38c6c88b0932"
   },
   "outputs": [
    {
     "data": {
      "text/plain": [
       "['A child in a pink dress is climbing up a set of stairs in an entry way .',\n",
       " 'A girl going into a wooden building .',\n",
       " 'A little girl climbing into a wooden playhouse .',\n",
       " 'A little girl climbing the stairs to her playhouse .',\n",
       " 'A little girl in a pink dress going into a wooden cabin .']"
      ]
     },
     "execution_count": 8,
     "metadata": {},
     "output_type": "execute_result"
    }
   ],
   "source": [
    "# before preprocess of text\n",
    "mapping['1000268201_693b08cb0e']"
   ]
  },
  {
   "cell_type": "code",
   "execution_count": 9,
   "metadata": {
    "executionInfo": {
     "elapsed": 9,
     "status": "ok",
     "timestamp": 1715871033975,
     "user": {
      "displayName": "Kunal Mehra",
      "userId": "01298929674880346817"
     },
     "user_tz": -330
    },
    "id": "5ofzVMI7utwK"
   },
   "outputs": [],
   "source": [
    "# preprocess the text\n",
    "clean(mapping)"
   ]
  },
  {
   "cell_type": "code",
   "execution_count": 10,
   "metadata": {
    "colab": {
     "base_uri": "https://localhost:8080/"
    },
    "executionInfo": {
     "elapsed": 5,
     "status": "ok",
     "timestamp": 1715871035982,
     "user": {
      "displayName": "Kunal Mehra",
      "userId": "01298929674880346817"
     },
     "user_tz": -330
    },
    "id": "nYGHZ3bButwK",
    "outputId": "0196d4ff-b637-4532-946e-b07041c28eba"
   },
   "outputs": [
    {
     "data": {
      "text/plain": [
       "['startseq child in pink dress is climbing up set of stairs in an entry way endseq',\n",
       " 'startseq girl going into wooden building endseq',\n",
       " 'startseq little girl climbing into wooden playhouse endseq',\n",
       " 'startseq little girl climbing the stairs to her playhouse endseq',\n",
       " 'startseq little girl in pink dress going into wooden cabin endseq']"
      ]
     },
     "execution_count": 10,
     "metadata": {},
     "output_type": "execute_result"
    }
   ],
   "source": [
    "# after preprocess of text\n",
    "mapping['1000268201_693b08cb0e']"
   ]
  },
  {
   "cell_type": "code",
   "execution_count": null,
   "metadata": {
    "id": "QjiESu9RutwK"
   },
   "outputs": [],
   "source": [
    "# all_captions = []\n",
    "# for key in mapping:\n",
    "#     for caption in mapping[key]:\n",
    "#         all_captions.append(caption)"
   ]
  },
  {
   "cell_type": "code",
   "execution_count": null,
   "metadata": {
    "id": "9xV8Pms08LSz"
   },
   "outputs": [],
   "source": [
    "# Save the tokenizer and max length for later use during prediction\n",
    "# with open(os.path.join(WORKING_DIR, 'tokenizer.pkl'), 'wb') as token_file:\n",
    "#     pickle.dump(tokenizer, token_file)"
   ]
  },
  {
   "cell_type": "code",
   "execution_count": 11,
   "metadata": {
    "executionInfo": {
     "elapsed": 417,
     "status": "ok",
     "timestamp": 1715871042593,
     "user": {
      "displayName": "Kunal Mehra",
      "userId": "01298929674880346817"
     },
     "user_tz": -330
    },
    "id": "CwqMPkiNJrSa"
   },
   "outputs": [],
   "source": [
    "with open(os.path.join(WORKING_DIR, 'tokenizer.pkl'), 'rb') as token_file:\n",
    "        tokenizer = pickle.load(token_file)\n",
    "\n",
    "# vocab_size = len(tokenizer.word_index) + 1"
   ]
  },
  {
   "cell_type": "code",
   "execution_count": null,
   "metadata": {
    "id": "m2aUQlj6utwL"
   },
   "outputs": [],
   "source": [
    "# tokenize the text\n",
    "# tokenizer = Tokenizer()\n",
    "# tokenizer.fit_on_texts(all_captions)\n",
    "# vocab_size = len(tokenizer.word_index) + 1"
   ]
  },
  {
   "cell_type": "code",
   "execution_count": null,
   "metadata": {
    "id": "e_QmVQF2Vo42"
   },
   "outputs": [],
   "source": [
    "# Save the tokenizer and max length for later use during prediction\n",
    "# with open(os.path.join(WORKING_DIR, 'tokenizer.pkl'), 'wb') as token_file:\n",
    "#     pickle.dump(tokenizer, token_file)"
   ]
  },
  {
   "cell_type": "code",
   "execution_count": null,
   "metadata": {
    "id": "v_kUwwKn7Q_p"
   },
   "outputs": [],
   "source": [
    "# with open(os.path.join(WORKING_DIR, 'tokenizer.pkl'), 'rb') as token_file:\n",
    "#         tokenizer = pickle.load(token_file)"
   ]
  },
  {
   "cell_type": "code",
   "execution_count": null,
   "metadata": {
    "colab": {
     "base_uri": "https://localhost:8080/"
    },
    "executionInfo": {
     "elapsed": 5,
     "status": "ok",
     "timestamp": 1701869718462,
     "user": {
      "displayName": "Kunal Mehra",
      "userId": "01298929674880346817"
     },
     "user_tz": -330
    },
    "id": "snTGqsay8RlJ",
    "outputId": "4ec118b3-2256-4a3e-c12b-d788677e17be"
   },
   "outputs": [
    {
     "data": {
      "text/plain": [
       "37"
      ]
     },
     "execution_count": 11,
     "metadata": {},
     "output_type": "execute_result"
    }
   ],
   "source": [
    "# max_length_training = max(len(caption.split()) for caption in all_captions)\n",
    "# max_length_training"
   ]
  },
  {
   "cell_type": "code",
   "execution_count": null,
   "metadata": {
    "id": "AjEuT5Cn8RR5"
   },
   "outputs": [],
   "source": []
  },
  {
   "cell_type": "code",
   "execution_count": null,
   "metadata": {
    "colab": {
     "base_uri": "https://localhost:8080/"
    },
    "executionInfo": {
     "elapsed": 550,
     "status": "ok",
     "timestamp": 1701870627890,
     "user": {
      "displayName": "Kunal Mehra",
      "userId": "01298929674880346817"
     },
     "user_tz": -330
    },
    "id": "UhOIz3zJutwL",
    "outputId": "1b2b2155-e8fd-4d6e-dd08-d77d089d1df6"
   },
   "outputs": [
    {
     "data": {
      "text/plain": [
       "35"
      ]
     },
     "execution_count": 34,
     "metadata": {},
     "output_type": "execute_result"
    }
   ],
   "source": [
    "# # # get maximum length of the caption available\n",
    "# max_length = max(len(caption.split()) for caption in all_captions)\n",
    "# max_length"
   ]
  },
  {
   "cell_type": "code",
   "execution_count": null,
   "metadata": {
    "id": "dlCaOR4CWPtc"
   },
   "outputs": [],
   "source": [
    "# with open(os.path.join(WORKING_DIR, 'max_length.pkl'), 'wb') as maxlen_file:\n",
    "#     pickle.dump(max_length, maxlen_file)"
   ]
  },
  {
   "cell_type": "code",
   "execution_count": 12,
   "metadata": {
    "executionInfo": {
     "elapsed": 975,
     "status": "ok",
     "timestamp": 1715871052606,
     "user": {
      "displayName": "Kunal Mehra",
      "userId": "01298929674880346817"
     },
     "user_tz": -330
    },
    "id": "HIBILEjZ8XF3"
   },
   "outputs": [],
   "source": [
    "with open(os.path.join(WORKING_DIR, 'max_length.pkl'), 'rb') as maxlen_file:\n",
    "        max_length = pickle.load(maxlen_file)"
   ]
  },
  {
   "cell_type": "code",
   "execution_count": null,
   "metadata": {
    "id": "1ED7j6J5utwM"
   },
   "outputs": [],
   "source": [
    "# image_ids = list(mapping.keys())\n",
    "# split = int(len(image_ids) * 0.90)\n",
    "# train = image_ids[:split]\n",
    "# test = image_ids[split:]"
   ]
  },
  {
   "cell_type": "code",
   "execution_count": null,
   "metadata": {
    "id": "e1CZo1IrutwM"
   },
   "outputs": [],
   "source": [
    "# startseq girl going into wooden building endseq\n",
    "#        X                   y\n",
    "# startseq                   girl\n",
    "# startseq girl              going\n",
    "# startseq girl going        into\n",
    "# ...........\n",
    "# startseq girl going into wooden building      endseq"
   ]
  },
  {
   "cell_type": "code",
   "execution_count": null,
   "metadata": {
    "id": "zo9Va0y1utwM"
   },
   "outputs": [],
   "source": [
    "# # create data generator to get data in batch (avoids session crash)\n",
    "# def data_generator(data_keys, mapping, features, tokenizer, max_length, vocab_size, batch_size):\n",
    "#     # loop over images\n",
    "#     X1, X2, y = list(), list(), list()\n",
    "#     n = 0\n",
    "#     while 1:\n",
    "#         for key in data_keys:\n",
    "#             n += 1\n",
    "#             captions = mapping[key]\n",
    "#             # process each caption\n",
    "#             for caption in captions:\n",
    "#                 # encode the sequence\n",
    "#                 seq = tokenizer.texts_to_sequences([caption])[0]\n",
    "#                 # split the sequence into X, y pairs\n",
    "#                 for i in range(1, len(seq)):\n",
    "#                     # split into input and output pairs\n",
    "#                     in_seq, out_seq = seq[:i], seq[i]\n",
    "#                     # pad input sequence\n",
    "#                     in_seq = pad_sequences([in_seq], maxlen=max_length)[0]\n",
    "#                     # encode output sequence\n",
    "#                     out_seq = to_categorical([out_seq], num_classes=vocab_size)[0]\n",
    "\n",
    "#                     # store the sequences\n",
    "#                     X1.append(features[key][0])\n",
    "#                     X2.append(in_seq)\n",
    "#                     y.append(out_seq)\n",
    "#             if n == batch_size:\n",
    "#                 X1, X2, y = np.array(X1), np.array(X2), np.array(y)\n",
    "#                 yield [X1, X2], y\n",
    "#                 X1, X2, y = list(), list(), list()\n",
    "#                 n = 0"
   ]
  },
  {
   "cell_type": "code",
   "execution_count": null,
   "metadata": {
    "id": "BUOivsDwutwM"
   },
   "outputs": [],
   "source": [
    "# encoder model\n",
    "# image feature layers\n",
    "# inputs1 = Input(shape=(4096,))\n",
    "# fe1 = Dropout(0.4)(inputs1)\n",
    "# fe2 = Dense(256, activation='relu')(fe1)\n",
    "# # sequence feature layers\n",
    "# inputs2 = Input(shape=(max_length,))\n",
    "# se1 = Embedding(vocab_size, 256, mask_zero=True)(inputs2)\n",
    "# se2 = Dropout(0.4)(se1)\n",
    "# se3 = LSTM(256)(se2)\n",
    "\n",
    "# # decoder model\n",
    "# decoder1 = add([fe2, se3])\n",
    "# decoder2 = Dense(256, activation='relu')(decoder1)\n",
    "# outputs = Dense(vocab_size, activation='softmax')(decoder2)\n",
    "\n",
    "# model = Model(inputs=[inputs1, inputs2], outputs=outputs)\n",
    "# model.compile(loss='categorical_crossentropy', optimizer='adam')\n",
    "\n",
    "# plot the model\n",
    "# plot_model(model, show_shapes=True)"
   ]
  },
  {
   "cell_type": "code",
   "execution_count": null,
   "metadata": {
    "id": "6KNkJd0yutwM"
   },
   "outputs": [],
   "source": [
    "# # train the model\n",
    "# epochs = 15\n",
    "# batch_size = 32\n",
    "# steps = len(train) // batch_size\n",
    "\n",
    "# for i in range(epochs):\n",
    "#     # create data generator\n",
    "#     generator = data_generator(train, mapping, features, tokenizer, max_length, vocab_size, batch_size)\n",
    "#     # fit for one epoch\n",
    "#     model.fit(generator, epochs=1, steps_per_epoch=steps, verbose=1)"
   ]
  },
  {
   "cell_type": "code",
   "execution_count": null,
   "metadata": {
    "id": "CKZ7dalDuNUK"
   },
   "outputs": [],
   "source": [
    "# model.save('/content/drive/MyDrive/Colab Notebooks/modeltrain1.h5')"
   ]
  },
  {
   "cell_type": "code",
   "execution_count": null,
   "metadata": {
    "id": "H0r_zxPFTFr3"
   },
   "outputs": [],
   "source": [
    "# from tensorflow.keras.models import load_model\n",
    "# model = load_model('/content/drive/MyDrive/Colab Notebooks/modeltrain1.h5')"
   ]
  },
  {
   "cell_type": "code",
   "execution_count": 13,
   "metadata": {
    "executionInfo": {
     "elapsed": 1021,
     "status": "ok",
     "timestamp": 1715871059011,
     "user": {
      "displayName": "Kunal Mehra",
      "userId": "01298929674880346817"
     },
     "user_tz": -330
    },
    "id": "_lYJ336JutwM"
   },
   "outputs": [],
   "source": [
    "def idx_to_word(integer, tokenizer):\n",
    "    for word, index in tokenizer.word_index.items():\n",
    "        if index == integer:\n",
    "            return word\n",
    "    return None"
   ]
  },
  {
   "cell_type": "code",
   "execution_count": 14,
   "metadata": {
    "executionInfo": {
     "elapsed": 401,
     "status": "ok",
     "timestamp": 1715871064370,
     "user": {
      "displayName": "Kunal Mehra",
      "userId": "01298929674880346817"
     },
     "user_tz": -330
    },
    "id": "ITcp7Pa2utwM"
   },
   "outputs": [],
   "source": [
    "# generate caption for an image\n",
    "def predict_caption(model, image, tokenizer, max_length):\n",
    "    # add start tag for generation process\n",
    "    in_text = 'startseq'\n",
    "    # iterate over the max length of sequence\n",
    "    for i in range(max_length):\n",
    "        # encode input sequence\n",
    "        sequence = tokenizer.texts_to_sequences([in_text])[0]\n",
    "        # pad the sequence\n",
    "        sequence = pad_sequences([sequence], max_length)\n",
    "        # predict next word\n",
    "        yhat = model.predict([image, sequence], verbose=0)\n",
    "        # get index with high probability\n",
    "        yhat = np.argmax(yhat)\n",
    "        # convert index to word\n",
    "        word = idx_to_word(yhat, tokenizer)\n",
    "        # stop if word not found\n",
    "        if word is None:\n",
    "            break\n",
    "        # append word as input for generating next word\n",
    "        in_text += \" \" + word\n",
    "        # stop if we reach end tag\n",
    "        if word == 'endseq':\n",
    "            break\n",
    "\n",
    "    return in_text"
   ]
  },
  {
   "cell_type": "code",
   "execution_count": null,
   "metadata": {
    "id": "dcEp8KsmutwM"
   },
   "outputs": [],
   "source": [
    "# from nltk.translate.bleu_score import corpus_bleu\n",
    "# # validate with test data\n",
    "# actual, predicted = list(), list()\n",
    "\n",
    "# for key in tqdm(test):\n",
    "#     # get actual caption\n",
    "#     captions = mapping[key]\n",
    "#     # predict the caption for image\n",
    "#     y_pred = predict_caption(model, features[key], tokenizer, max_length)\n",
    "#     # split into words\n",
    "#     actual_captions = [caption.split() for caption in captions]\n",
    "#     y_pred = y_pred.split()\n",
    "#     # append to the list\n",
    "#     actual.append(actual_captions)\n",
    "#     predicted.append(y_pred)\n",
    "\n",
    "# # calcuate BLEU score\n",
    "# print(\"BLEU-1: %f\" % corpus_bleu(actual, predicted, weights=(1.0, 0, 0, 0)))\n",
    "# print(\"BLEU-2: %f\" % corpus_bleu(actual, predicted, weights=(0.5, 0.5, 0, 0)))"
   ]
  },
  {
   "cell_type": "code",
   "execution_count": null,
   "metadata": {
    "id": "b66dMYveZxXU"
   },
   "outputs": [],
   "source": [
    "# from PIL import Image\n",
    "# import matplotlib.pyplot as plt\n",
    "\n",
    "\n",
    "# class CaptionGenerator:\n",
    "#     def __init__(self):\n",
    "#         # Initialize your class if needed\n",
    "#         pass\n",
    "\n",
    "#     def generate_caption(self, image_name):\n",
    "#         # Your existing code for generating captions\n",
    "#     # def generate_caption(image_name):\n",
    "#         # load the image\n",
    "#         # image_name = \"1001773457_577c3a7d70.jpg\"\n",
    "#         image_id = image_name.split('.')[0]\n",
    "#         img_path = os.path.join(BASE_DIR, \"Images\", image_name)\n",
    "#         image = Image.open(img_path)\n",
    "#         captions = mapping[image_id]\n",
    "#         print('---------------------Actual---------------------')\n",
    "#         for caption in captions:\n",
    "#             print(caption)\n",
    "#         # predict the caption\n",
    "#         y_pred = predict_caption(model, features[image_id], tokenizer, max_length)\n",
    "#         print('--------------------Predicted--------------------')\n",
    "#         print(y_pred)\n",
    "#         plt.imshow(image)\n",
    "\n",
    "# # Create an instance of the CaptionGenerator class\n",
    "# models = CaptionGenerator()"
   ]
  },
  {
   "cell_type": "code",
   "execution_count": null,
   "metadata": {
    "id": "ntoY8hilbJU9"
   },
   "outputs": [],
   "source": [
    "# models.generate_caption(\"230016181_0c52b95304.jpg\")"
   ]
  },
  {
   "cell_type": "code",
   "execution_count": 15,
   "metadata": {
    "executionInfo": {
     "elapsed": 4569,
     "status": "ok",
     "timestamp": 1715871074469,
     "user": {
      "displayName": "Kunal Mehra",
      "userId": "01298929674880346817"
     },
     "user_tz": -330
    },
    "id": "4aC9vVeUZxK9"
   },
   "outputs": [],
   "source": [
    "from tensorflow.keras.models import load_model\n",
    "model = load_model('/content/drive/MyDrive/Colab Notebooks/modeltrain1.h5')"
   ]
  },
  {
   "cell_type": "code",
   "execution_count": 16,
   "metadata": {
    "colab": {
     "base_uri": "https://localhost:8080/"
    },
    "executionInfo": {
     "elapsed": 8692,
     "status": "ok",
     "timestamp": 1715871088444,
     "user": {
      "displayName": "Kunal Mehra",
      "userId": "01298929674880346817"
     },
     "user_tz": -330
    },
    "id": "IITNFJ_yutwN",
    "outputId": "11b2ad3d-4785-4df8-d7a2-57805622c348"
   },
   "outputs": [
    {
     "name": "stdout",
     "output_type": "stream",
     "text": [
      "Downloading data from https://storage.googleapis.com/tensorflow/keras-applications/vgg16/vgg16_weights_tf_dim_ordering_tf_kernels.h5\n",
      "553467096/553467096 [==============================] - 5s 0us/step\n"
     ]
    }
   ],
   "source": [
    "vgg_model = VGG16()\n",
    "# restructure the model\n",
    "vgg_model = Model(inputs=vgg_model.inputs, outputs=vgg_model.layers[-2].output)"
   ]
  },
  {
   "cell_type": "code",
   "execution_count": 17,
   "metadata": {
    "colab": {
     "base_uri": "https://localhost:8080/",
     "height": 36
    },
    "executionInfo": {
     "elapsed": 8238,
     "status": "ok",
     "timestamp": 1715871108580,
     "user": {
      "displayName": "Kunal Mehra",
      "userId": "01298929674880346817"
     },
     "user_tz": -330
    },
    "id": "3d5MizKjutwN",
    "outputId": "a2ba7ed8-9892-4818-c869-46dd88794b05"
   },
   "outputs": [
    {
     "data": {
      "application/vnd.google.colaboratory.intrinsic+json": {
       "type": "string"
      },
      "text/plain": [
       "'startseq horse horse in brown sweatshirt and rider in black sweatshirt and black hat on horse endseq'"
      ]
     },
     "execution_count": 17,
     "metadata": {},
     "output_type": "execute_result"
    }
   ],
   "source": [
    "image_path = '/content/drive/MyDrive/Colab Notebooks/Images/10815824_2997e03d76.jpg'\n",
    "# load image\n",
    "image = load_img(image_path, target_size=(224, 224))\n",
    "# convert image pixels to numpy array\n",
    "image = img_to_array(image)\n",
    "# reshape data for model\n",
    "image = image.reshape((1, image.shape[0], image.shape[1], image.shape[2]))\n",
    "# preprocess image for vgg\n",
    "image = preprocess_input(image)\n",
    "# extract features\n",
    "feature = vgg_model.predict(image, verbose=0)\n",
    "# predict from the trained model\n",
    "predict_caption(model, feature, tokenizer, max_length)"
   ]
  },
  {
   "cell_type": "code",
   "execution_count": null,
   "metadata": {
    "id": "oJn21NZuutwO"
   },
   "outputs": [],
   "source": []
  },
  {
   "cell_type": "code",
   "execution_count": null,
   "metadata": {
    "id": "1Ebh6RC5utwO"
   },
   "outputs": [],
   "source": []
  }
 ],
 "metadata": {
  "accelerator": "GPU",
  "colab": {
   "gpuType": "T4",
   "provenance": []
  },
  "kernelspec": {
   "display_name": "Python 3",
   "name": "python3"
  },
  "language_info": {
   "codemirror_mode": {
    "name": "ipython",
    "version": 3
   },
   "file_extension": ".py",
   "mimetype": "text/x-python",
   "name": "python",
   "nbconvert_exporter": "python",
   "pygments_lexer": "ipython3",
   "version": "3.11.3"
  },
  "orig_nbformat": 4,
  "widgets": {
   "application/vnd.jupyter.widget-state+json": {
    "22a17607162f4362b9bb2531b144613d": {
     "model_module": "@jupyter-widgets/controls",
     "model_module_version": "1.5.0",
     "model_name": "FloatProgressModel",
     "state": {
      "_dom_classes": [],
      "_model_module": "@jupyter-widgets/controls",
      "_model_module_version": "1.5.0",
      "_model_name": "FloatProgressModel",
      "_view_count": null,
      "_view_module": "@jupyter-widgets/controls",
      "_view_module_version": "1.5.0",
      "_view_name": "ProgressView",
      "bar_style": "success",
      "description": "",
      "description_tooltip": null,
      "layout": "IPY_MODEL_5b9817811890479e83f6cd04e858a578",
      "max": 40456,
      "min": 0,
      "orientation": "horizontal",
      "style": "IPY_MODEL_2b0f160dcd974cc680ffbab9353c1a50",
      "value": 40456
     }
    },
    "24d2cbeeecba439aa9dc7025aff79517": {
     "model_module": "@jupyter-widgets/base",
     "model_module_version": "1.2.0",
     "model_name": "LayoutModel",
     "state": {
      "_model_module": "@jupyter-widgets/base",
      "_model_module_version": "1.2.0",
      "_model_name": "LayoutModel",
      "_view_count": null,
      "_view_module": "@jupyter-widgets/base",
      "_view_module_version": "1.2.0",
      "_view_name": "LayoutView",
      "align_content": null,
      "align_items": null,
      "align_self": null,
      "border": null,
      "bottom": null,
      "display": null,
      "flex": null,
      "flex_flow": null,
      "grid_area": null,
      "grid_auto_columns": null,
      "grid_auto_flow": null,
      "grid_auto_rows": null,
      "grid_column": null,
      "grid_gap": null,
      "grid_row": null,
      "grid_template_areas": null,
      "grid_template_columns": null,
      "grid_template_rows": null,
      "height": null,
      "justify_content": null,
      "justify_items": null,
      "left": null,
      "margin": null,
      "max_height": null,
      "max_width": null,
      "min_height": null,
      "min_width": null,
      "object_fit": null,
      "object_position": null,
      "order": null,
      "overflow": null,
      "overflow_x": null,
      "overflow_y": null,
      "padding": null,
      "right": null,
      "top": null,
      "visibility": null,
      "width": null
     }
    },
    "2b0f160dcd974cc680ffbab9353c1a50": {
     "model_module": "@jupyter-widgets/controls",
     "model_module_version": "1.5.0",
     "model_name": "ProgressStyleModel",
     "state": {
      "_model_module": "@jupyter-widgets/controls",
      "_model_module_version": "1.5.0",
      "_model_name": "ProgressStyleModel",
      "_view_count": null,
      "_view_module": "@jupyter-widgets/base",
      "_view_module_version": "1.2.0",
      "_view_name": "StyleView",
      "bar_color": null,
      "description_width": ""
     }
    },
    "5b9817811890479e83f6cd04e858a578": {
     "model_module": "@jupyter-widgets/base",
     "model_module_version": "1.2.0",
     "model_name": "LayoutModel",
     "state": {
      "_model_module": "@jupyter-widgets/base",
      "_model_module_version": "1.2.0",
      "_model_name": "LayoutModel",
      "_view_count": null,
      "_view_module": "@jupyter-widgets/base",
      "_view_module_version": "1.2.0",
      "_view_name": "LayoutView",
      "align_content": null,
      "align_items": null,
      "align_self": null,
      "border": null,
      "bottom": null,
      "display": null,
      "flex": null,
      "flex_flow": null,
      "grid_area": null,
      "grid_auto_columns": null,
      "grid_auto_flow": null,
      "grid_auto_rows": null,
      "grid_column": null,
      "grid_gap": null,
      "grid_row": null,
      "grid_template_areas": null,
      "grid_template_columns": null,
      "grid_template_rows": null,
      "height": null,
      "justify_content": null,
      "justify_items": null,
      "left": null,
      "margin": null,
      "max_height": null,
      "max_width": null,
      "min_height": null,
      "min_width": null,
      "object_fit": null,
      "object_position": null,
      "order": null,
      "overflow": null,
      "overflow_x": null,
      "overflow_y": null,
      "padding": null,
      "right": null,
      "top": null,
      "visibility": null,
      "width": null
     }
    },
    "619a922430004aa5bd6f42b445e0b147": {
     "model_module": "@jupyter-widgets/controls",
     "model_module_version": "1.5.0",
     "model_name": "HBoxModel",
     "state": {
      "_dom_classes": [],
      "_model_module": "@jupyter-widgets/controls",
      "_model_module_version": "1.5.0",
      "_model_name": "HBoxModel",
      "_view_count": null,
      "_view_module": "@jupyter-widgets/controls",
      "_view_module_version": "1.5.0",
      "_view_name": "HBoxView",
      "box_style": "",
      "children": [
       "IPY_MODEL_81978cac1c234a578785bf0390076c16",
       "IPY_MODEL_22a17607162f4362b9bb2531b144613d",
       "IPY_MODEL_d6cbfd00fb2a45608486efda3e738320"
      ],
      "layout": "IPY_MODEL_abe022605f16460e97058d5b90070a17"
     }
    },
    "81978cac1c234a578785bf0390076c16": {
     "model_module": "@jupyter-widgets/controls",
     "model_module_version": "1.5.0",
     "model_name": "HTMLModel",
     "state": {
      "_dom_classes": [],
      "_model_module": "@jupyter-widgets/controls",
      "_model_module_version": "1.5.0",
      "_model_name": "HTMLModel",
      "_view_count": null,
      "_view_module": "@jupyter-widgets/controls",
      "_view_module_version": "1.5.0",
      "_view_name": "HTMLView",
      "description": "",
      "description_tooltip": null,
      "layout": "IPY_MODEL_edafa52843c4423f8081a8d16c4c5aec",
      "placeholder": "​",
      "style": "IPY_MODEL_fd6936a1620141b1b6654159978b784d",
      "value": "100%"
     }
    },
    "8f01b79b1de5428fa6919c8c0494fb58": {
     "model_module": "@jupyter-widgets/controls",
     "model_module_version": "1.5.0",
     "model_name": "DescriptionStyleModel",
     "state": {
      "_model_module": "@jupyter-widgets/controls",
      "_model_module_version": "1.5.0",
      "_model_name": "DescriptionStyleModel",
      "_view_count": null,
      "_view_module": "@jupyter-widgets/base",
      "_view_module_version": "1.2.0",
      "_view_name": "StyleView",
      "description_width": ""
     }
    },
    "abe022605f16460e97058d5b90070a17": {
     "model_module": "@jupyter-widgets/base",
     "model_module_version": "1.2.0",
     "model_name": "LayoutModel",
     "state": {
      "_model_module": "@jupyter-widgets/base",
      "_model_module_version": "1.2.0",
      "_model_name": "LayoutModel",
      "_view_count": null,
      "_view_module": "@jupyter-widgets/base",
      "_view_module_version": "1.2.0",
      "_view_name": "LayoutView",
      "align_content": null,
      "align_items": null,
      "align_self": null,
      "border": null,
      "bottom": null,
      "display": null,
      "flex": null,
      "flex_flow": null,
      "grid_area": null,
      "grid_auto_columns": null,
      "grid_auto_flow": null,
      "grid_auto_rows": null,
      "grid_column": null,
      "grid_gap": null,
      "grid_row": null,
      "grid_template_areas": null,
      "grid_template_columns": null,
      "grid_template_rows": null,
      "height": null,
      "justify_content": null,
      "justify_items": null,
      "left": null,
      "margin": null,
      "max_height": null,
      "max_width": null,
      "min_height": null,
      "min_width": null,
      "object_fit": null,
      "object_position": null,
      "order": null,
      "overflow": null,
      "overflow_x": null,
      "overflow_y": null,
      "padding": null,
      "right": null,
      "top": null,
      "visibility": null,
      "width": null
     }
    },
    "d6cbfd00fb2a45608486efda3e738320": {
     "model_module": "@jupyter-widgets/controls",
     "model_module_version": "1.5.0",
     "model_name": "HTMLModel",
     "state": {
      "_dom_classes": [],
      "_model_module": "@jupyter-widgets/controls",
      "_model_module_version": "1.5.0",
      "_model_name": "HTMLModel",
      "_view_count": null,
      "_view_module": "@jupyter-widgets/controls",
      "_view_module_version": "1.5.0",
      "_view_name": "HTMLView",
      "description": "",
      "description_tooltip": null,
      "layout": "IPY_MODEL_24d2cbeeecba439aa9dc7025aff79517",
      "placeholder": "​",
      "style": "IPY_MODEL_8f01b79b1de5428fa6919c8c0494fb58",
      "value": " 40456/40456 [00:00&lt;00:00, 323068.73it/s]"
     }
    },
    "edafa52843c4423f8081a8d16c4c5aec": {
     "model_module": "@jupyter-widgets/base",
     "model_module_version": "1.2.0",
     "model_name": "LayoutModel",
     "state": {
      "_model_module": "@jupyter-widgets/base",
      "_model_module_version": "1.2.0",
      "_model_name": "LayoutModel",
      "_view_count": null,
      "_view_module": "@jupyter-widgets/base",
      "_view_module_version": "1.2.0",
      "_view_name": "LayoutView",
      "align_content": null,
      "align_items": null,
      "align_self": null,
      "border": null,
      "bottom": null,
      "display": null,
      "flex": null,
      "flex_flow": null,
      "grid_area": null,
      "grid_auto_columns": null,
      "grid_auto_flow": null,
      "grid_auto_rows": null,
      "grid_column": null,
      "grid_gap": null,
      "grid_row": null,
      "grid_template_areas": null,
      "grid_template_columns": null,
      "grid_template_rows": null,
      "height": null,
      "justify_content": null,
      "justify_items": null,
      "left": null,
      "margin": null,
      "max_height": null,
      "max_width": null,
      "min_height": null,
      "min_width": null,
      "object_fit": null,
      "object_position": null,
      "order": null,
      "overflow": null,
      "overflow_x": null,
      "overflow_y": null,
      "padding": null,
      "right": null,
      "top": null,
      "visibility": null,
      "width": null
     }
    },
    "fd6936a1620141b1b6654159978b784d": {
     "model_module": "@jupyter-widgets/controls",
     "model_module_version": "1.5.0",
     "model_name": "DescriptionStyleModel",
     "state": {
      "_model_module": "@jupyter-widgets/controls",
      "_model_module_version": "1.5.0",
      "_model_name": "DescriptionStyleModel",
      "_view_count": null,
      "_view_module": "@jupyter-widgets/base",
      "_view_module_version": "1.2.0",
      "_view_name": "StyleView",
      "description_width": ""
     }
    }
   }
  }
 },
 "nbformat": 4,
 "nbformat_minor": 0
}
